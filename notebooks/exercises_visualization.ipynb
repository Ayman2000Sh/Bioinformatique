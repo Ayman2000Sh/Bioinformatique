{
 "cells": [
  {
   "cell_type": "markdown",
   "metadata": {
    "tags": []
   },
   "source": [
    "# Data Analysis and Data Science\n",
    "## Be curious about the data \n",
    "\n",
    "By: NOME\n",
    "<br>For: BIM6065-65\n",
    "\n",
    "<hr style=\"border:1px solid black\"> </hr>\n"
   ]
  },
  {
   "cell_type": "markdown",
   "metadata": {},
   "source": [
    "**Student Name**: \n",
    "\n",
    "Complete the following exercises and submit your Notebook in a HTML format on StudiUM. You have until July 3rd, noon to hand-in your Notebook."
   ]
  },
  {
   "cell_type": "markdown",
   "metadata": {},
   "source": [
    "## Python Libraries\n",
    "\n",
    "Import the Pandas, and Seaborn"
   ]
  },
  {
   "cell_type": "code",
   "execution_count": 1,
   "metadata": {},
   "outputs": [],
   "source": [
    "import pandas as pd\n",
    "import seaborn as sns"
   ]
  },
  {
   "cell_type": "code",
   "execution_count": 2,
   "metadata": {},
   "outputs": [],
   "source": [
    "sns.set(rc={'figure.figsize':(9, 4)})\n",
    "sns.set_theme(context=\"notebook\", style=\"white\", palette=\"Set2\")"
   ]
  },
  {
   "cell_type": "markdown",
   "metadata": {},
   "source": [
    "## Get the data [8 pts]\n",
    "\n",
    "Download the <code>breast_cancer_metametric.tsv</code> dataset from StudiUM and upload it to the Jupyter IRIC server. Using <code>pandas</code>, read the file and save its content into a variable as a dataframe."
   ]
  },
  {
   "cell_type": "code",
   "execution_count": 1,
   "metadata": {},
   "outputs": [
    {
     "name": "stdout",
     "output_type": "stream",
     "text": [
      "Ayman Shoukari\n"
     ]
    }
   ],
   "source": [
    "print(\"Ayman Shoukari\")"
   ]
  },
  {
   "cell_type": "code",
   "execution_count": 3,
   "metadata": {},
   "outputs": [],
   "source": [
    "## Define variable with file name\n",
    "D = \"breast_cancer_metametric.tsv\"\n"
   ]
  },
  {
   "cell_type": "code",
   "execution_count": 11,
   "metadata": {},
   "outputs": [
    {
     "data": {
      "text/plain": [
       "'breast_cancer_metametric.tsv'"
      ]
     },
     "execution_count": 11,
     "metadata": {},
     "output_type": "execute_result"
    }
   ],
   "source": [
    "## Read ans save data into variable as a dataframe\n",
    "data = pd.read_table(D)\n",
    "D"
   ]
  },
  {
   "cell_type": "markdown",
   "metadata": {},
   "source": [
    "## Explore the data [12 pts]\n",
    "\n",
    "Using various <code>pandas</code> functions, answer the following questions. **Make sure you answers are explicitely outputed by your code.**"
   ]
  },
  {
   "cell_type": "markdown",
   "metadata": {},
   "source": [
    "1. How many variables and samples are there in your dataset?"
   ]
  },
  {
   "cell_type": "code",
   "execution_count": 45,
   "metadata": {},
   "outputs": [
    {
     "name": "stdout",
     "output_type": "stream",
     "text": [
      "1104 patients\n",
      "14 Variables\n"
     ]
    }
   ],
   "source": [
    "data.shape\n",
    "print(\"1104 patients\")\n",
    "print(\"14 Variables\")"
   ]
  },
  {
   "cell_type": "markdown",
   "metadata": {},
   "source": [
    "***\n",
    "2. How many age groups are considered?"
   ]
  },
  {
   "cell_type": "code",
   "execution_count": 46,
   "metadata": {},
   "outputs": [
    {
     "name": "stdout",
     "output_type": "stream",
     "text": [
      "Nb. of outcomes: 6 Age Groups\n"
     ]
    }
   ],
   "source": [
    "print(\"Nb. of outcomes:\",data.loc[:,'AGE_GROUP'].nunique(),\"Age Groups\")"
   ]
  },
  {
   "cell_type": "markdown",
   "metadata": {},
   "source": [
    "***\n",
    "3. What is the mean overall survival (in month)?"
   ]
  },
  {
   "cell_type": "code",
   "execution_count": 15,
   "metadata": {},
   "outputs": [
    {
     "name": "stdout",
     "output_type": "stream",
     "text": [
      "Mean. values: \n",
      "CHEMOTHERAPY         0.221014\n",
      "HORMONE_THERAPY      0.613225\n",
      "RADIO_THERAPY        0.664855\n",
      "BREAST_SURGERY       0.423913\n",
      "CELLULARITY          1.393116\n",
      "VITAL_STATUS         0.894928\n",
      "GRADE                2.447464\n",
      "COHORT               2.217391\n",
      "MUTATION_COUNT       5.460145\n",
      "NPI                  4.130823\n",
      "OS_MONTHS          126.103261\n",
      "TUMOR_SIZE          26.009511\n",
      "TUMOR_STAGE          1.758152\n",
      "AGE_GROUP           57.893773\n",
      "dtype: float64\n",
      "\n"
     ]
    }
   ],
   "source": [
    "print(\"Mean. values: \")\n",
    "print(data.mean(axis=0))\n",
    "print()\n"
   ]
  },
  {
   "cell_type": "code",
   "execution_count": 47,
   "metadata": {},
   "outputs": [
    {
     "name": "stdout",
     "output_type": "stream",
     "text": [
      "126.10326086947464 months\n"
     ]
    }
   ],
   "source": [
    "print(data[\"OS_MONTHS\"].mean(),\"months\")"
   ]
  },
  {
   "cell_type": "markdown",
   "metadata": {},
   "source": [
    "***\n",
    "4. What is the highest mutation count?"
   ]
  },
  {
   "cell_type": "code",
   "execution_count": 19,
   "metadata": {},
   "outputs": [
    {
     "name": "stdout",
     "output_type": "stream",
     "text": [
      "Mean. values: \n",
      "CHEMOTHERAPY         1.000000\n",
      "HORMONE_THERAPY      1.000000\n",
      "RADIO_THERAPY        1.000000\n",
      "BREAST_SURGERY       1.000000\n",
      "CELLULARITY          2.000000\n",
      "VITAL_STATUS         2.000000\n",
      "GRADE                3.000000\n",
      "COHORT               5.000000\n",
      "MUTATION_COUNT      46.000000\n",
      "NPI                  6.360000\n",
      "OS_MONTHS          337.033333\n",
      "TUMOR_SIZE         180.000000\n",
      "TUMOR_STAGE          4.000000\n",
      "AGE_GROUP           90.000000\n",
      "dtype: float64\n",
      "\n"
     ]
    }
   ],
   "source": [
    "print(\"Mean. values: \")\n",
    "print(data.max(axis=0))\n",
    "print()"
   ]
  },
  {
   "cell_type": "code",
   "execution_count": 26,
   "metadata": {},
   "outputs": [
    {
     "name": "stdout",
     "output_type": "stream",
     "text": [
      "46.0 mutations\n"
     ]
    }
   ],
   "source": [
    "print(data[\"MUTATION_COUNT\"].max(),\"mutations\")"
   ]
  },
  {
   "cell_type": "markdown",
   "metadata": {},
   "source": [
    "\n",
    "5. How large is the smallest tumor?"
   ]
  },
  {
   "cell_type": "code",
   "execution_count": 48,
   "metadata": {},
   "outputs": [
    {
     "name": "stdout",
     "output_type": "stream",
     "text": [
      "1.0 cm\n"
     ]
    }
   ],
   "source": [
    "print(data[\"TUMOR_SIZE\"].min(),\"cm\")"
   ]
  },
  {
   "cell_type": "markdown",
   "metadata": {},
   "source": [
    "***\n",
    "6. What are the grade considered in the dataset?"
   ]
  },
  {
   "cell_type": "code",
   "execution_count": 49,
   "metadata": {},
   "outputs": [
    {
     "name": "stdout",
     "output_type": "stream",
     "text": [
      "Grades [3. 2. 1.]\n"
     ]
    }
   ],
   "source": [
    "print(\"Grades\",data.loc[:,'GRADE'].unique())"
   ]
  },
  {
   "cell_type": "markdown",
   "metadata": {},
   "source": [
    "***\n",
    "7. What is the median Nottingham Prognostic Index (NPI)?"
   ]
  },
  {
   "cell_type": "code",
   "execution_count": 50,
   "metadata": {},
   "outputs": [
    {
     "name": "stdout",
     "output_type": "stream",
     "text": [
      "Median NPI 4.046\n"
     ]
    }
   ],
   "source": [
    "print(\"Median NPI\",data[\"NPI\"].median())"
   ]
  },
  {
   "cell_type": "markdown",
   "metadata": {},
   "source": [
    "***\n",
    "8. a) What are the possible values for CHEMOTHERAPY, HORMONE_THERAPY, RADIO_THERAPY, BREAST_SURGERY? <br>b) What do you think these values represent? "
   ]
  },
  {
   "cell_type": "code",
   "execution_count": 36,
   "metadata": {},
   "outputs": [
    {
     "name": "stdout",
     "output_type": "stream",
     "text": [
      "[1. 0.] CHEMOTHERAPY\n",
      "[1. 0.] HORMONE_THERAPY\n",
      "[1. 0.] RADIO_THERAPY\n",
      "[0. 1.] BREAST_SURGERY\n",
      "0: patients did not recieve this treatment\n",
      "1: patients recieved this treatment\n"
     ]
    }
   ],
   "source": [
    "#a\n",
    "print(data.loc[:,'CHEMOTHERAPY'].unique(), \"CHEMOTHERAPY\")\n",
    "print(data.loc[:,'HORMONE_THERAPY'].unique(),\"HORMONE_THERAPY\")\n",
    "print(data.loc[:,'RADIO_THERAPY'].unique(),\"RADIO_THERAPY\")\n",
    "print(data.loc[:,'BREAST_SURGERY'].unique(),\"BREAST_SURGERY\")\n",
    "\n",
    "#b it my represent if the patient recieved this kind of treatment\n",
    "print(\"0: patients did not recieve this treatment\")\n",
    "print (\"1: patients recieved this treatment\")"
   ]
  },
  {
   "cell_type": "markdown",
   "metadata": {},
   "source": [
    "***\n",
    "10. How many patients in the dataset have had breast surgery?"
   ]
  },
  {
   "cell_type": "code",
   "execution_count": 42,
   "metadata": {},
   "outputs": [
    {
     "name": "stdout",
     "output_type": "stream",
     "text": [
      "468 patients have had breast surgery\n"
     ]
    }
   ],
   "source": [
    "\n",
    "print(data.loc[data[\"BREAST_SURGERY\"] == 1, \"BREAST_SURGERY\"].count(), \"patients have had breast surgery\")"
   ]
  },
  {
   "cell_type": "markdown",
   "metadata": {},
   "source": [
    "## Visualize the data [30 pts pts]"
   ]
  },
  {
   "cell_type": "markdown",
   "metadata": {},
   "source": [
    "You are first interested in the distribution of the overall survival of the various samples. You hypothesize that the distribution differ from one tumor stage to another.\n",
    "\n",
    "Design a figure that will help verify your hypothesis. **Make sure your figure is readable and displayed after your code.**\n",
    "\n",
    "Briefly intepret your figure."
   ]
  },
  {
   "cell_type": "code",
   "execution_count": 52,
   "metadata": {},
   "outputs": [
    {
     "data": {
      "image/png": "[encoded data removed]",
      "text/plain": [
       "<Figure size 432x288 with 1 Axes>"
      ]
     },
     "metadata": {
      "needs_background": "light"
     },
     "output_type": "display_data"
    }
   ],
   "source": [
    "### Figure\n",
    "p = sns.histplot(data, x=\"OS_MONTHS\", bins=25,hue='TUMOR_STAGE',multiple=\"stack\")\n",
    "p.set_title(\"Overall Survival According to Tumor Stage\")\n",
    "\n",
    "\n",
    "sns.move_legend(p, \"upper left\", bbox_to_anchor=(1, 1), title=None, frameon=False)\n",
    "sns.despine()"
   ]
  },
  {
   "cell_type": "code",
   "execution_count": 54,
   "metadata": {},
   "outputs": [
    {
     "name": "stdout",
     "output_type": "stream",
     "text": [
      "Hypthesis is valid since patients have different overall survival according to their tumor stage\n",
      "Patients with tumor stage 3 and 4 has low survival rate when compared to stage 1 and 2\n"
     ]
    }
   ],
   "source": [
    "### Interpretation\n",
    "print(\"Hypthesis is valid since patients have different overall survival according to their tumor stage\")\n",
    "print (\"Patients with tumor stage 3 and 4 has low survival rate when compared to stage 1 and 2\")"
   ]
  },
  {
   "cell_type": "markdown",
   "metadata": {},
   "source": [
    "***\n",
    "You are now interested in the relationship between the overall survival and the other variables measured. Given your knowledge of the dataset, make an hypothesis that considered the overall survival.\n",
    "\n",
    "Explore the dataset and generate a least one figure that validate or invalidate your hypothesis. **Make sure your figure is readable and displayed after your code.**\n",
    "\n",
    "Briefly intepret your figure."
   ]
  },
  {
   "cell_type": "code",
   "execution_count": 71,
   "metadata": {},
   "outputs": [
    {
     "name": "stdout",
     "output_type": "stream",
     "text": [
      " Hypthesis: Patients who recieved chemotherahpy had over all a higher survival rate\n"
     ]
    }
   ],
   "source": [
    "### Hypothesis\n",
    "\n",
    "print(\" Hypthesis: Patients who recieved chemotherahpy had over all a higher survival rate\")\n"
   ]
  },
  {
   "cell_type": "code",
   "execution_count": 69,
   "metadata": {
    "tags": []
   },
   "outputs": [
    {
     "data": {
      "image/png": "[encoded data removed]",
      "text/plain": [
       "<Figure size 432x288 with 1 Axes>"
      ]
     },
     "metadata": {
      "needs_background": "light"
     },
     "output_type": "display_data"
    }
   ],
   "source": [
    "### Figure\n",
    "p = sns.histplot(data, x=\"OS_MONTHS\", bins=25,hue='CHEMOTHERAPY',multiple=\"stack\")\n",
    "p.set_title(\"Overall Survival According to Chemotherapy Treatment\")\n",
    "\n",
    "\n",
    "sns.move_legend(p, \"upper left\", bbox_to_anchor=(1, 1), title=None, frameon=False)\n",
    "sns.despine()"
   ]
  },
  {
   "cell_type": "code",
   "execution_count": 75,
   "metadata": {},
   "outputs": [
    {
     "name": "stdout",
     "output_type": "stream",
     "text": [
      "Hypothesis is not valid as shown in this graph\n",
      "nearly the group that did not recieve chemotherapy slight had over all a higher survival rate\n"
     ]
    }
   ],
   "source": [
    "### Interpretation\n",
    "print(\"Hypothesis is not valid as shown in this graph\")\n",
    "print(\"nearly the group that did not recieve chemotherapy slight had over all a higher survival rate\")\n"
   ]
  },
  {
   "cell_type": "code",
   "execution_count": null,
   "metadata": {},
   "outputs": [],
   "source": []
  }
 ],
 "metadata": {
  "kernelspec": {
   "display_name": "Python (bioinfo)",
   "language": "python",
   "name": "bioinfo"
  },
  "language_info": {
   "codemirror_mode": {
    "name": "ipython",
    "version": 3
   },
   "file_extension": ".py",
   "mimetype": "text/x-python",
   "name": "python",
   "nbconvert_exporter": "python",
   "pygments_lexer": "ipython3",
   "version": "3.10.4"
  }
 },
 "nbformat": 4,
 "nbformat_minor": 4
}
