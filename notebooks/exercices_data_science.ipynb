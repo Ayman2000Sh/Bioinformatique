{
 "cells": [
  {
   "cell_type": "markdown",
   "id": "0b5f76c3-f9f6-42cf-85e2-3f0e6def0286",
   "metadata": {},
   "source": [
    "# Data Analysis and Data Science\n",
    "## Be curious about the method \n",
    "\n",
    "By: Caroline Labelle\n",
    "<br>For: BIM6065-C\n",
    "\n",
    "<br>\n",
    "Date: July 4th, 2023\n",
    "\n",
    "<hr style=\"border:1px solid black\"> </hr>"
   ]
  },
  {
   "cell_type": "code",
   "execution_count": null,
   "id": "e545393f-36ef-48fe-a7c5-8ccf4373597d",
   "metadata": {},
   "outputs": [],
   "source": [
    "### Student Name: Ayman Shoukari"
   ]
  },
  {
   "cell_type": "markdown",
   "id": "9ed6012b-aa81-4f1f-92f4-794ac29b1598",
   "metadata": {},
   "source": [
    "Complete the following exercises and submit your Notebook in a HTML format on StudiUM. You have until July 5th, noon to hand-in your Notebook."
   ]
  },
  {
   "cell_type": "code",
   "execution_count": 6,
   "id": "5b313e3b-06d1-4515-9404-dbe1850ef415",
   "metadata": {},
   "outputs": [],
   "source": [
    "### Import sklearn\n",
    "import sklearn.decomposition, sklearn.cluster\n",
    "\n",
    "### Import scipy\n",
    "import scipy as sp\n",
    "\n",
    "### Import pandas, numpy, seaborn and matplotlib.pyplot\n",
    "import pandas as pd\n",
    "import numpy as np\n",
    "import seaborn as sns"
   ]
  },
  {
   "cell_type": "code",
   "execution_count": 7,
   "id": "c21e56ca-687a-430f-8d89-ec57525e92bb",
   "metadata": {},
   "outputs": [],
   "source": [
    "sns.set(rc={'figure.figsize':(4, 2)})\n",
    "sns.set_theme(context=\"notebook\", style=\"white\", palette=\"Set2\")"
   ]
  },
  {
   "cell_type": "markdown",
   "id": "5b0fd809-ef46-45a8-90fd-748a4fce79fa",
   "metadata": {},
   "source": [
    "## Genes correlation [25 pts]"
   ]
  },
  {
   "cell_type": "code",
   "execution_count": 8,
   "id": "c33fda1e-e5f6-4d17-9b02-ba6e21d7624f",
   "metadata": {},
   "outputs": [
    {
     "data": {
      "text/html": [
       "<div>\n",
       "<style scoped>\n",
       "    .dataframe tbody tr th:only-of-type {\n",
       "        vertical-align: middle;\n",
       "    }\n",
       "\n",
       "    .dataframe tbody tr th {\n",
       "        vertical-align: top;\n",
       "    }\n",
       "\n",
       "    .dataframe thead th {\n",
       "        text-align: right;\n",
       "    }\n",
       "</style>\n",
       "<table border=\"1\" class=\"dataframe\">\n",
       "  <thead>\n",
       "    <tr style=\"text-align: right;\">\n",
       "      <th></th>\n",
       "      <th>ESR1</th>\n",
       "      <th>PGR</th>\n",
       "      <th>BCL2</th>\n",
       "      <th>NAT1</th>\n",
       "      <th>Results</th>\n",
       "    </tr>\n",
       "  </thead>\n",
       "  <tbody>\n",
       "    <tr>\n",
       "      <th>0</th>\n",
       "      <td>5.1</td>\n",
       "      <td>3.5</td>\n",
       "      <td>1.4</td>\n",
       "      <td>0.2</td>\n",
       "      <td>Cured</td>\n",
       "    </tr>\n",
       "    <tr>\n",
       "      <th>1</th>\n",
       "      <td>4.9</td>\n",
       "      <td>3.0</td>\n",
       "      <td>1.4</td>\n",
       "      <td>0.2</td>\n",
       "      <td>Cured</td>\n",
       "    </tr>\n",
       "    <tr>\n",
       "      <th>2</th>\n",
       "      <td>4.7</td>\n",
       "      <td>3.2</td>\n",
       "      <td>1.3</td>\n",
       "      <td>0.2</td>\n",
       "      <td>Cured</td>\n",
       "    </tr>\n",
       "    <tr>\n",
       "      <th>3</th>\n",
       "      <td>4.6</td>\n",
       "      <td>3.1</td>\n",
       "      <td>1.5</td>\n",
       "      <td>0.2</td>\n",
       "      <td>Cured</td>\n",
       "    </tr>\n",
       "    <tr>\n",
       "      <th>4</th>\n",
       "      <td>5.0</td>\n",
       "      <td>3.6</td>\n",
       "      <td>1.4</td>\n",
       "      <td>0.2</td>\n",
       "      <td>Cured</td>\n",
       "    </tr>\n",
       "  </tbody>\n",
       "</table>\n",
       "</div>"
      ],
      "text/plain": [
       "   ESR1  PGR  BCL2  NAT1 Results\n",
       "0   5.1  3.5   1.4   0.2   Cured\n",
       "1   4.9  3.0   1.4   0.2   Cured\n",
       "2   4.7  3.2   1.3   0.2   Cured\n",
       "3   4.6  3.1   1.5   0.2   Cured\n",
       "4   5.0  3.6   1.4   0.2   Cured"
      ]
     },
     "execution_count": 8,
     "metadata": {},
     "output_type": "execute_result"
    }
   ],
   "source": [
    "### Import and clean the Gene expression cancer 1 dataset\n",
    "data = pd.read_csv(\"gene_expression_cancer_1.csv\", sep=\",\", header=0)\n",
    "data.head()"
   ]
  },
  {
   "cell_type": "markdown",
   "id": "cbc9c7b2-1dfe-487e-8a39-3e384e6f3953",
   "metadata": {},
   "source": [
    "### Global correlation [6 pts]"
   ]
  },
  {
   "cell_type": "code",
   "execution_count": 9,
   "id": "99f2dd9d-9bab-42a9-a225-4eb9306f8749",
   "metadata": {},
   "outputs": [
    {
     "name": "stdout",
     "output_type": "stream",
     "text": [
      "Pearson correlation -0.10936924995064938\n"
     ]
    }
   ],
   "source": [
    "### Consider the PGR and ESR1 genes. Do the expression of these two genes correlates?\n",
    "### Consider the entire dataset.\n",
    "### Answer the question with a Pearson correlation coefficient, a plot and brief interpretation of your results.\n",
    "\n",
    "reg = sp.stats.linregress(x=data.PGR,y=data.ESR1, alternative=\"two-sided\")\n",
    "reg.rvalue\n",
    "\n",
    "print(\"Pearson correlation\",reg.rvalue)\n",
    "\n"
   ]
  },
  {
   "cell_type": "code",
   "execution_count": 10,
   "id": "514d7936-1291-417b-8e07-a5a9413a4416",
   "metadata": {},
   "outputs": [
    {
     "name": "stdout",
     "output_type": "stream",
     "text": [
      "ESR1 and PGR are not linerally corroleated since r coffcient is -0.10\n"
     ]
    },
    {
     "data": {
      "image/png": "[encoded data removed]",
      "text/plain": [
       "<Figure size 432x288 with 1 Axes>"
      ]
     },
     "metadata": {
      "needs_background": "light"
     },
     "output_type": "display_data"
    }
   ],
   "source": [
    "L = sns.regplot(data,x=\"PGR\",y=\"ESR1\")\n",
    "L.text(4.5,7.0,np.round(reg.rvalue,4))\n",
    "L.set_title(\"ESR1 and PGR Linear Regression\")\n",
    "\n",
    "\n",
    "sns.despine()\n",
    "print(\"ESR1 and PGR are not linerally correlated since r coffcient is -0.10\")"
   ]
  },
  {
   "cell_type": "markdown",
   "id": "ffaadb16-d40b-421a-a02b-78b4810b87cd",
   "metadata": {},
   "source": [
    "### Grouped correlations [14 pts]"
   ]
  },
  {
   "cell_type": "code",
   "execution_count": 11,
   "id": "6a7499fc-9a75-4271-83e8-7912fbbeca92",
   "metadata": {
    "tags": []
   },
   "outputs": [
    {
     "name": "stdout",
     "output_type": "stream",
     "text": [
      "Axes(0.125,0.125;0.775x0.755)\n",
      "R Value= 0.7467803732639268\n"
     ]
    },
    {
     "data": {
      "image/png": "[encoded data removed]",
      "text/plain": [
       "<Figure size 432x288 with 1 Axes>"
      ]
     },
     "metadata": {
      "needs_background": "light"
     },
     "output_type": "display_data"
    }
   ],
   "source": [
    "### Consider the same two genes, but assess correlation based on the patient outcomes (a.k.a \"Results\").\n",
    "### For each group, return a Pearson correlation coefficient and a plot.\n",
    "### (You can generate a single plot with all three groups or three individual plots)\n",
    "### Briefly interpret your results and state if your conclusion differ from the one previously made (Global correlation).\n",
    "\n",
    "#create dataframe using patients rows, the genes of interests ESR and PGR and Results\n",
    "o=data.loc[:,[\"ESR1\",\"PGR\",\"Results\"]]\n",
    "\n",
    "#filter based on results\n",
    "datasubset_Results1 = o.loc[o[\"Results\"] == \"Cured\"]\n",
    "\n",
    "o1= sp.stats.linregress(x=datasubset_Results1.PGR, y=datasubset_Results1.ESR1 ,alternative=\"two-sided\")\n",
    "o1.rvalue\n",
    "o12= sns.regplot(datasubset_Results1, x=\"PGR\",y=\"ESR1\")\n",
    "o12.set_title(\"ESR1 and PGR Linear Regression-Cured\")\n",
    "print(o12)\n",
    "print(\"R Value=\",o1.rvalue)\n",
    "#print(datasubset_Results1)\n",
    "\n"
   ]
  },
  {
   "cell_type": "code",
   "execution_count": 12,
   "id": "dae31d31-e32e-48bf-89a5-919252cc27a3",
   "metadata": {
    "tags": []
   },
   "outputs": [
    {
     "name": "stdout",
     "output_type": "stream",
     "text": [
      "Axes(0.125,0.125;0.775x0.755)\n",
      "R Value= 0.5280216842864213\n"
     ]
    },
    {
     "data": {
      "image/png": "[encoded data removed]",
      "text/plain": [
       "<Figure size 432x288 with 1 Axes>"
      ]
     },
     "metadata": {
      "needs_background": "light"
     },
     "output_type": "display_data"
    }
   ],
   "source": [
    "\n",
    "\n",
    "datasubset_Results2= o.loc[o[\"Results\"] == \"Recurrence\"]\n",
    "o2= sp.stats.linregress(x=datasubset_Results2.PGR, y=datasubset_Results2.ESR1 ,alternative=\"two-sided\")\n",
    "o2.rvalue\n",
    "o13= sns.regplot(datasubset_Results2, x=\"PGR\",y=\"ESR1\")\n",
    "o13.set_title(\"ESR1 and PGR Linear Regression-Recurrence\")\n",
    "print(o13)\n",
    "print(\"R Value=\",o2.rvalue)\n",
    "#print(datasubset_Results2)"
   ]
  },
  {
   "cell_type": "code",
   "execution_count": 13,
   "id": "d2e1a123-c7a2-4c01-8e6b-ea0896fbef3b",
   "metadata": {},
   "outputs": [
    {
     "name": "stdout",
     "output_type": "stream",
     "text": [
      "Axes(0.125,0.125;0.775x0.755)\n",
      "R Value= 0.46200631074260196\n"
     ]
    },
    {
     "data": {
      "image/png": "[encoded data removed]",
      "text/plain": [
       "<Figure size 432x288 with 1 Axes>"
      ]
     },
     "metadata": {
      "needs_background": "light"
     },
     "output_type": "display_data"
    }
   ],
   "source": [
    "datasubset_Results3= o.loc[o[\"Results\"] == \"Dead\"]\n",
    "o3= sp.stats.linregress(x=datasubset_Results3.PGR, y=datasubset_Results3.ESR1 ,alternative=\"two-sided\")\n",
    "o3.rvalue\n",
    "o14= sns.regplot(datasubset_Results3, x=\"PGR\",y=\"ESR1\")\n",
    "o14.set_title(\"ESR1 and PGR Linear Regression-Dead\")\n",
    "print(o14)\n",
    "print(\"R Value=\",o3.rvalue)\n",
    "#print(datasubset_Results3)"
   ]
  },
  {
   "cell_type": "code",
   "execution_count": 33,
   "id": "b302bf1d-383d-4b70-80d0-37bcd78db46f",
   "metadata": {},
   "outputs": [
    {
     "name": "stdout",
     "output_type": "stream",
     "text": [
      "ESR 1 and PGR show a corroletion based on the outcome, where the highest r value was in the cured patients\n",
      "This emplies that ESR 1 and PGR expression show a correlation based on outcome\n"
     ]
    }
   ],
   "source": [
    "print(\"ESR 1 and PGR show a correlation based on the outcome, where the highest r value was in the cured patients\")\n",
    "print(\"This emplies that ESR 1 and PGR expression show a correlation based on outcome\")"
   ]
  },
  {
   "cell_type": "markdown",
   "id": "1f0b8a55-dc0a-41bd-a364-6f1573e4b868",
   "metadata": {},
   "source": [
    "### Spearman's rank correlation [5 pts]"
   ]
  },
  {
   "cell_type": "code",
   "execution_count": 32,
   "id": "8e9b3a16-7cbc-4e3b-8400-b5851b480566",
   "metadata": {},
   "outputs": [
    {
     "name": "stdout",
     "output_type": "stream",
     "text": [
      "spearR0= SignificanceResult(statistic=np.float64(-0.15945651848582867), pvalue=np.float64(0.05128491483834292))\n",
      "spearR1= SignificanceResult(statistic=np.float64(0.7686085073729368), pvalue=np.float64(7.161781507883594e-11))\n",
      "spearR2= SignificanceResult(statistic=np.float64(0.5180736821877614), pvalue=np.float64(0.00013742136038254855))\n",
      "spearR3= SignificanceResult(statistic=np.float64(0.4389928351262457), pvalue=np.float64(0.0012702598513604905))\n"
     ]
    }
   ],
   "source": [
    "### Calculate the Spearman' rank correlations for the four comparisons made previously.\n",
    "### (Global dataset and the three goups)\n",
    "### Do the results differ? if so, do the conlusions also differ? \n",
    "### Briefly explain what are the new conclusions.\n",
    "speaR0 = sp.stats.spearmanr(data.PGR,data.ESR1)\n",
    "speaR1 = sp.stats.spearmanr(datasubset_Results1.PGR,datasubset_Results1.ESR1)\n",
    "speaR2 = sp.stats.spearmanr(datasubset_Results2.PGR,datasubset_Results2.ESR1)\n",
    "speaR3 = sp.stats.spearmanr(datasubset_Results3.PGR,datasubset_Results3.ESR1)\n",
    "\n",
    "print(\"spearR0=\",speaR0)\n",
    "print(\"spearR1=\",speaR1)\n",
    "print(\"spearR2=\",speaR2)\n",
    "print(\"spearR3=\",speaR3)"
   ]
  },
  {
   "cell_type": "code",
   "execution_count": 36,
   "id": "e32f6970-bb5c-4fc9-9b14-4fd3159fe5bd",
   "metadata": {},
   "outputs": [
    {
     "name": "stdout",
     "output_type": "stream",
     "text": [
      "ESR1 and PGR are not globally corroleated\n",
      "ESR 1 and PGR show a strong positive correlation based on the cured outcome, where the highest r value was in the cured patients\n",
      "ESR 1 and PGR show a positive moderate correlation  based on the recurrence outcome\n",
      "ESR 1 and PGR show a poistive moderate correlation based on the dead outcome\n",
      "Conclusion:This suggest that the correlation of ESR 1 and PGR in cured patient is different, although that the two genes are not correlated globally but they are correlated in a specific outcome\n"
     ]
    }
   ],
   "source": [
    "print(\"ESR1 and PGR are not globally correlated\")\n",
    "print(\"ESR 1 and PGR show a strong positive correlation based on the cured outcome, where the highest r value was in the cured patients\")\n",
    "print(\"ESR 1 and PGR show a positive moderate correlation  based on the recurrence outcome\")\n",
    "print(\"ESR 1 and PGR show a poistive moderate correlation based on the dead outcome\")\n",
    "print(\"Conclusion:This suggest that the correlation of ESR 1 and PGR in cured patient is different, although that the two genes are not correlated globally but they are correlated in a specific outcome\")"
   ]
  },
  {
   "cell_type": "code",
   "execution_count": 37,
   "id": "094bdb28-6ee2-48d3-b01a-d5e54ab9f597",
   "metadata": {},
   "outputs": [
    {
     "name": "stdout",
     "output_type": "stream",
     "text": [
      "Conclusion did not differ from previous one\n"
     ]
    }
   ],
   "source": [
    "print(\"Conclusion did not differ from previous one\")"
   ]
  },
  {
   "cell_type": "code",
   "execution_count": null,
   "id": "6afb5d08-2889-422d-a032-231a775a3b41",
   "metadata": {},
   "outputs": [],
   "source": []
  }
 ],
 "metadata": {
  "kernelspec": {
   "display_name": "Python (bioinfo)",
   "language": "python",
   "name": "bioinfo"
  },
  "language_info": {
   "codemirror_mode": {
    "name": "ipython",
    "version": 3
   },
   "file_extension": ".py",
   "mimetype": "text/x-python",
   "name": "python",
   "nbconvert_exporter": "python",
   "pygments_lexer": "ipython3",
   "version": "3.10.4"
  }
 },
 "nbformat": 4,
 "nbformat_minor": 5
}
